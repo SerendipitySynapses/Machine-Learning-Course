{
 "cells": [
  {
   "cell_type": "markdown",
   "id": "5902c1f3",
   "metadata": {},
   "source": [
    "<div dir=rtl align=center>\n",
    "\n",
    "<img src='https://upload.wikimedia.org/wikipedia/fa/thumb/a/a9/Sharif_logo.svg/626px-Sharif_logo.svg.png?20110526112825' alt=\"SUT logo\" width=200 height=200 align=center  >\n",
    "<br>\n",
    "<font face=\"B Yekan\">\n",
    "<font color=0F5298 size=7>\n",
    "یادگیری ماشین<br>\n",
    "<font color=2565AE size=5>\n",
    "دانشکده مهندسی صنایع<br>\n",
    "<font color=2565AE size=4>\n",
    "دکتر مهدی شریف زاده <br>\n",
    "<font  size=4>\n",
    "\n",
    "سعید زواشکیانی\n",
    " <br>\n",
    "بهار 1402<br>\n",
    "\n",
    "<font color=3C99D size=5>\n",
    "تمرین عملی 1\n",
    "<br>\n",
    "سوال 1\n",
    "-غلظت اوزون در لس انجلس\n",
    "<br>\n",
    "100 نمره\n",
    "    \n",
    "    \n",
    "____\n"
   ]
  },
  {
   "cell_type": "markdown",
   "id": "ac560d39",
   "metadata": {},
   "source": [
    "<div dir=\"rtl\" style=\"font-size:16px;\">\n",
    "<font face=\"B Yekan\">\n",
    "داده‌های LAozone.data به همراه فایل راهنمای LAozone.info را در نظر بگیرید. این داده‌ها، شامل ۹ویژگی پیوسته هستند که مقدار اُزن در هوا به عنوان خروجی در نظر گرفته می‌شود. پس از خواندن و آماده‌سازی داده‌ها، سوالات زیر را پیاده سازی نمایید:\n",
    "(برای تمامی قسمت‌ها، ۷۰ درصد داده ها را به صورت تصادفی، به عنوان داده آموزش و ۳۰ درصد دیگر را به عنوان داده تست در نظر بگیرد)\n",
    "\n",
    "\n",
    "</div>"
   ]
  },
  {
   "cell_type": "markdown",
   "id": "ec5c2f08",
   "metadata": {},
   "source": [
    "# Libraries"
   ]
  },
  {
   "cell_type": "code",
   "execution_count": 26,
   "id": "e104a64b",
   "metadata": {},
   "outputs": [],
   "source": [
    "import numpy as np\n",
    "import pandas as pd\n",
    "import matplotlib.pyplot as plt\n",
    "from sklearn.model_selection import train_test_split\n",
    "from sklearn.linear_model import LinearRegression\n",
    "from sklearn.metrics import mean_squared_error\n",
    "from sklearn.preprocessing import StandardScaler\n",
    "from sklearn.model_selection import cross_val_score\n",
    "# add what you want"
   ]
  },
  {
   "cell_type": "markdown",
   "id": "437f821b",
   "metadata": {},
   "source": [
    "# Load data"
   ]
  },
  {
   "cell_type": "code",
   "execution_count": 27,
   "id": "adfff8da",
   "metadata": {},
   "outputs": [
    {
     "data": {
      "text/html": [
       "<div>\n",
       "<style scoped>\n",
       "    .dataframe tbody tr th:only-of-type {\n",
       "        vertical-align: middle;\n",
       "    }\n",
       "\n",
       "    .dataframe tbody tr th {\n",
       "        vertical-align: top;\n",
       "    }\n",
       "\n",
       "    .dataframe thead th {\n",
       "        text-align: right;\n",
       "    }\n",
       "</style>\n",
       "<table border=\"1\" class=\"dataframe\">\n",
       "  <thead>\n",
       "    <tr style=\"text-align: right;\">\n",
       "      <th></th>\n",
       "      <th>ozone</th>\n",
       "      <th>vh</th>\n",
       "      <th>wind</th>\n",
       "      <th>humidity</th>\n",
       "      <th>temp</th>\n",
       "      <th>ibh</th>\n",
       "      <th>dpg</th>\n",
       "      <th>ibt</th>\n",
       "      <th>vis</th>\n",
       "      <th>doy</th>\n",
       "    </tr>\n",
       "  </thead>\n",
       "  <tbody>\n",
       "    <tr>\n",
       "      <th>0</th>\n",
       "      <td>3</td>\n",
       "      <td>5710</td>\n",
       "      <td>4</td>\n",
       "      <td>28</td>\n",
       "      <td>40</td>\n",
       "      <td>2693</td>\n",
       "      <td>-25</td>\n",
       "      <td>87</td>\n",
       "      <td>250</td>\n",
       "      <td>3</td>\n",
       "    </tr>\n",
       "    <tr>\n",
       "      <th>1</th>\n",
       "      <td>5</td>\n",
       "      <td>5700</td>\n",
       "      <td>3</td>\n",
       "      <td>37</td>\n",
       "      <td>45</td>\n",
       "      <td>590</td>\n",
       "      <td>-24</td>\n",
       "      <td>128</td>\n",
       "      <td>100</td>\n",
       "      <td>4</td>\n",
       "    </tr>\n",
       "    <tr>\n",
       "      <th>2</th>\n",
       "      <td>5</td>\n",
       "      <td>5760</td>\n",
       "      <td>3</td>\n",
       "      <td>51</td>\n",
       "      <td>54</td>\n",
       "      <td>1450</td>\n",
       "      <td>25</td>\n",
       "      <td>139</td>\n",
       "      <td>60</td>\n",
       "      <td>5</td>\n",
       "    </tr>\n",
       "    <tr>\n",
       "      <th>3</th>\n",
       "      <td>6</td>\n",
       "      <td>5720</td>\n",
       "      <td>4</td>\n",
       "      <td>69</td>\n",
       "      <td>35</td>\n",
       "      <td>1568</td>\n",
       "      <td>15</td>\n",
       "      <td>121</td>\n",
       "      <td>60</td>\n",
       "      <td>6</td>\n",
       "    </tr>\n",
       "    <tr>\n",
       "      <th>4</th>\n",
       "      <td>4</td>\n",
       "      <td>5790</td>\n",
       "      <td>6</td>\n",
       "      <td>19</td>\n",
       "      <td>45</td>\n",
       "      <td>2631</td>\n",
       "      <td>-33</td>\n",
       "      <td>123</td>\n",
       "      <td>100</td>\n",
       "      <td>7</td>\n",
       "    </tr>\n",
       "  </tbody>\n",
       "</table>\n",
       "</div>"
      ],
      "text/plain": [
       "   ozone    vh  wind  humidity  temp   ibh  dpg  ibt  vis  doy\n",
       "0      3  5710     4        28    40  2693  -25   87  250    3\n",
       "1      5  5700     3        37    45   590  -24  128  100    4\n",
       "2      5  5760     3        51    54  1450   25  139   60    5\n",
       "3      6  5720     4        69    35  1568   15  121   60    6\n",
       "4      4  5790     6        19    45  2631  -33  123  100    7"
      ]
     },
     "execution_count": 27,
     "metadata": {},
     "output_type": "execute_result"
    }
   ],
   "source": [
    "df = pd.read_csv(\"/Users/dinasaur/Documents/ML-Sharif/ML_HW_1/Q1/LAozone.data\")\n",
    "df.head()"
   ]
  },
  {
   "cell_type": "markdown",
   "id": "5de92e51",
   "metadata": {},
   "source": [
    "# A. Linear Regression with All features (25 points)"
   ]
  },
  {
   "cell_type": "markdown",
   "id": "5614eb34",
   "metadata": {},
   "source": [
    "<div dir=\"rtl\" style=\"font-size:16px;\">\n",
    "<font face=\"B Yekan\">\n",
    "\n",
    " رگرسیون خطی را اعمال کنید، ضرایب رگرسیون و خطای میانگین مجموع مربعات را برای داده های آموزش و تست بدست آورید.\n",
    "\n",
    "</div>"
   ]
  },
  {
   "cell_type": "code",
   "execution_count": 33,
   "id": "db0744ee",
   "metadata": {},
   "outputs": [
    {
     "name": "stdout",
     "output_type": "stream",
     "text": [
      "Regression coefficients: [-0.00660323 -0.09055619  0.07246086  0.27683502 -0.00065308  0.00124055\n",
      "  0.02354736 -0.00693325 -0.00895673]\n",
      "\n",
      "Mean squared error for test: 21.61580904715569\n",
      "Mean squared error for train: 18.474416854257292\n"
     ]
    }
   ],
   "source": [
    "y=df[\"ozone\"]\n",
    "X=df.drop([\"ozone\"],axis=1)\n",
    "X_train, X_test, y_train, y_test=train_test_split(X, y, test_size=0.3, random_state=42)\n",
    "linreg = LinearRegression().fit(X_train, y_train)\n",
    "y_pred=linreg.predict(X_test)\n",
    "y_pred_train=linreg.predict(X_train)\n",
    "linreg.score(X_test, y_test)\n",
    "mse_test = mean_squared_error(y_true=y_test,y_pred=y_pred)\n",
    "mse_train = mean_squared_error(y_true=y_train,y_pred=y_pred_train)\n",
    "print(f\"Regression coefficients: {linreg.coef_}\\n\")\n",
    "print(f\"Mean squared error for test: {mse_test}\")\n",
    "print(f\"Mean squared error for train: {mse_train}\")"
   ]
  },
  {
   "cell_type": "markdown",
   "id": "6abe3cc3",
   "metadata": {},
   "source": [
    "# B. Linear regression with one feature (25 points)"
   ]
  },
  {
   "cell_type": "markdown",
   "id": "b9a667fd",
   "metadata": {},
   "source": [
    "<div dir=\"rtl\" style=\"font-size:16px;\">\n",
    "<font face=\"B Yekan\">\n",
    "\n",
    "به دلخواه یکی از ویژگی ها که حدس می زنید ارتباط بیشتری با خروجی دارد را انتخاب کنید و رگرسیون خطی یک بعدی را انجام دهید. خطای میانگین مجموع مربعات را برای داده های آموزش و تست اعلام نموده و داده ها و خط برازش شده را در یک نمودار رسم کنید.\n",
    "</div>"
   ]
  },
  {
   "cell_type": "code",
   "execution_count": 34,
   "id": "152f456c",
   "metadata": {},
   "outputs": [
    {
     "name": "stdout",
     "output_type": "stream",
     "text": [
      "Coefficients: [0.43277188]\n",
      "MSE (test set): 25.16715646274405\n",
      "MSE (training set): 24.956636257125243\n"
     ]
    },
    {
     "data": {
      "image/png": "[encoded data removed]",
      "text/plain": [
       "<Figure size 640x480 with 1 Axes>"
      ]
     },
     "metadata": {},
     "output_type": "display_data"
    }
   ],
   "source": [
    "df = pd.read_csv(\"/Users/dinasaur/Documents/ML-Sharif/ML_HW_1/Q1/LAozone.data\")\n",
    "y = df[\"ozone\"]\n",
    "X = df[[\"temp\"]] \n",
    "X_train, X_test, y_train, y_test = train_test_split(X, y, test_size=0.3, random_state=42)\n",
    "linreg = LinearRegression().fit(X_train, y_train)\n",
    "y_pred = linreg.predict(X_test)\n",
    "mse_test = mean_squared_error(y_true=y_test, y_pred=y_pred)\n",
    "y_pred_train = linreg.predict(X_train)\n",
    "mse_train = mean_squared_error(y_true=y_train, y_pred=y_pred_train)\n",
    "print(\"Coefficients:\", linreg.coef_)\n",
    "print(\"MSE (test set):\", mse_test)\n",
    "print(\"MSE (training set):\", mse_train)\n",
    "plt.scatter(X_train, y_train)\n",
    "plt.plot(X_train, linreg.predict(X_train), color=\"red\")\n",
    "plt.xlabel(\"Temperature\")\n",
    "plt.ylabel(\"Ozone\")\n",
    "plt.title(\"Linear Regression on Temperature vs. Ozone\")\n",
    "plt.show()\n"
   ]
  },
  {
   "cell_type": "markdown",
   "id": "6b7d2ee6",
   "metadata": {},
   "source": [
    "# C. Linear regression on splitted data by median (50 points)"
   ]
  },
  {
   "cell_type": "markdown",
   "id": "eada2522",
   "metadata": {},
   "source": [
    "<div dir=\"rtl\" style=\"font-size:16px;\">\n",
    "<font face=\"B Yekan\">\n",
    "با در نظر گرفتن ویژگی انتخاب شده در قسمت (ب)، محدوده ویژگی مورد نظر را به دو قسمت تقسیم کنید طوری که تعداد داده ها در هر دو دسته تقریبا برابر باشد. (برای مثال اگر محدوده داده بدست آمده بین ۰ تا ۱۰۰ بود و داده های بین ۰ تا ۴۰ و داده های بین ۴۰ تا ۱۰۰ تقریبا از نظر تعداد با هم برابر هستند، محدوده این ویژگی را از نقطه ۴۰ به دو قسمت تقسیم کنید). سپس برای هر کدام از قسمتها، رگرسیون خطی را اعمال کرده و خطای میانگین مجموع مربعات را برای داده های آموزش و تست را محاسبه نمایید. داده ها و خطوط برازش شده را در یک نمودار رسم کنید. سپس نتایج بدست آمده را با قسمت (ب) مقایسه نموده و اختلاف یا شباهت را بررسی نمایید.\n",
    "</div>"
   ]
  },
  {
   "cell_type": "code",
   "execution_count": 35,
   "id": "b121514a",
   "metadata": {},
   "outputs": [
    {
     "data": {
      "text/plain": [
       "count    330.000000\n",
       "mean      61.754545\n",
       "std       14.458737\n",
       "min       25.000000\n",
       "25%       51.000000\n",
       "50%       62.000000\n",
       "75%       72.000000\n",
       "max       93.000000\n",
       "Name: temp, dtype: float64"
      ]
     },
     "execution_count": 35,
     "metadata": {},
     "output_type": "execute_result"
    }
   ],
   "source": [
    "df[\"temp\"].describe()"
   ]
  },
  {
   "cell_type": "markdown",
   "id": "36c75f43",
   "metadata": {},
   "source": [
    "To divide this range into two almost equal parts, we can choose a split point at the median value of the \"temp\" feature, which is 62"
   ]
  },
  {
   "cell_type": "code",
   "execution_count": 36,
   "id": "c74f342f",
   "metadata": {},
   "outputs": [
    {
     "name": "stdout",
     "output_type": "stream",
     "text": [
      "MSE for subset 1: 12.56324246475433\n",
      "MSE for subset 2: 30.024629845862457\n"
     ]
    },
    {
     "data": {
      "image/png": "[encoded data removed]",
      "text/plain": [
       "<Figure size 640x480 with 1 Axes>"
      ]
     },
     "metadata": {},
     "output_type": "display_data"
    }
   ],
   "source": [
    "y = df[\"ozone\"]\n",
    "X = df[[\"temp\"]] \n",
    "X_train, X_test, y_train, y_test = train_test_split(X, y, test_size=0.3, random_state=42)\n",
    "X_train = X_train.values.reshape((-1,1))\n",
    "y_train = y_train.values.reshape((-1,1))\n",
    "X_test = X_test.values.reshape((-1,1))\n",
    "y_test = y_test.values.reshape((-1,1))\n",
    "# Split the data into two subsets based on the median value of \"temp\"\n",
    "temp_median = np.median(X_train[:, 0])  \n",
    "subset_1_idx = X_train[:, 0] < temp_median  \n",
    "subset_2_idx = X_train[:, 0] >= temp_median \n",
    "X_train_1, y_train_1 = X_train[subset_1_idx], y_train[subset_1_idx]  \n",
    "X_train_2, y_train_2 = X_train[subset_2_idx], y_train[subset_2_idx]  \n",
    "X_test_1, y_test_1 = X_test[X_test[:, 0] < temp_median], y_test[X_test[:, 0] < temp_median]  \n",
    "X_test_2, y_test_2 = X_test[X_test[:, 0] >= temp_median], y_test[X_test[:, 0] >= temp_median]  \n",
    "linreg_1 = LinearRegression().fit(X_train_1, y_train_1)  \n",
    "linreg_2 = LinearRegression().fit(X_train_2, y_train_2)  \n",
    "y_pred_1 = linreg_1.predict(X_test_1)  \n",
    "mse_1 = mean_squared_error(y_true=y_test_1, y_pred=y_pred_1)  \n",
    "print(\"MSE for subset 1:\", mse_1)\n",
    "y_pred_2 = linreg_2.predict(X_test_2)  \n",
    "mse_2 = mean_squared_error(y_true=y_test_2, y_pred=y_pred_2)  \n",
    "print(\"MSE for subset 2:\", mse_2)\n",
    "plt.scatter(X_train_1[:, 0], y_train_1, color='indigo')  \n",
    "plt.scatter(X_train_2[:, 0], y_train_2, color='crimson')  \n",
    "plt.plot(X_test_1[:, 0], y_pred_1, color='cyan') \n",
    "plt.plot(X_test_2[:, 0], y_pred_2, color='yellow')  \n",
    "plt.xlabel(\"temp\")\n",
    "plt.ylabel(\"ozone\")\n",
    "plt.show()\n",
    "\n"
   ]
  },
  {
   "cell_type": "markdown",
   "id": "af65a926",
   "metadata": {},
   "source": [
    "MSE for test data: <br>\n",
    "all features: 21.61580904715569 <br>\n",
    "temp feature: 25.16715646274405 <br>\n",
    "subset which contains number of data lower than median: 12.56324246475433<br>\n",
    "subset which contains number of data greater than median: 30.024629845862457 <br>\n",
    "\n",
    "Based on the provided mean squared error (MSE) values, we can say that the overall relationship between the temperature feature and the target (ozone) is not very strong.\n",
    "When using all features, the model has an MSE of 21.61580904715569, which indicates a moderate level of error in predicting the target. When only using the temperature feature, the model has a higher MSE of 25.16715646274405, indicating that using only temperature as a predictor leads to less accurate predictions.\n",
    "However, when looking at subsets of the data, the relationship between temperature and the target varies. The subset containing data points with temperatures lower than the median has a lower MSE of 12.56324246475433, indicating a stronger relationship between lower temperatures and the target. On the other hand, the subset containing data points with temperatures greater than the median has a much higher MSE of 30.024629845862457, indicating a weaker relationship between higher temperatures and the target.\n",
    "Overall, the relationship between temperature and the target is not very strong, but it may depend on other factors in the dataset."
   ]
  },
  {
   "cell_type": "code",
   "execution_count": null,
   "id": "05176693",
   "metadata": {},
   "outputs": [],
   "source": []
  },
  {
   "cell_type": "code",
   "execution_count": null,
   "id": "43a4e0f7",
   "metadata": {},
   "outputs": [],
   "source": []
  }
 ],
 "metadata": {
  "kernelspec": {
   "display_name": "Python 3 (ipykernel)",
   "language": "python",
   "name": "python3"
  },
  "language_info": {
   "codemirror_mode": {
    "name": "ipython",
    "version": 3
   },
   "file_extension": ".py",
   "mimetype": "text/x-python",
   "name": "python",
   "nbconvert_exporter": "python",
   "pygments_lexer": "ipython3",
   "version": "3.12.2"
  },
  "toc": {
   "base_numbering": 1,
   "nav_menu": {},
   "number_sections": true,
   "sideBar": true,
   "skip_h1_title": false,
   "title_cell": "Table of Contents",
   "title_sidebar": "Contents",
   "toc_cell": false,
   "toc_position": {},
   "toc_section_display": true,
   "toc_window_display": false
  },
  "varInspector": {
   "cols": {
    "lenName": 16,
    "lenType": 16,
    "lenVar": 40
   },
   "kernels_config": {
    "python": {
     "delete_cmd_postfix": "",
     "delete_cmd_prefix": "del ",
     "library": "var_list.py",
     "varRefreshCmd": "print(var_dic_list())"
    },
    "r": {
     "delete_cmd_postfix": ") ",
     "delete_cmd_prefix": "rm(",
     "library": "var_list.r",
     "varRefreshCmd": "cat(var_dic_list()) "
    }
   },
   "types_to_exclude": [
    "module",
    "function",
    "builtin_function_or_method",
    "instance",
    "_Feature"
   ],
   "window_display": false
  },
  "vscode": {
   "interpreter": {
    "hash": "ec21d020fdb83eb2829808c0505e5b33037481656f73549d7749c38a50b0ef23"
   }
  }
 },
 "nbformat": 4,
 "nbformat_minor": 5
}
